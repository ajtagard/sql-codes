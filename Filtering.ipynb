{
 "cells": [
  {
   "cell_type": "code",
   "execution_count": 45,
   "metadata": {
    "collapsed": false
   },
   "outputs": [
    {
     "name": "stdout",
     "output_type": "stream",
     "text": [
      "0.64804315567\n"
     ]
    }
   ],
   "source": [
    "### Write a Python program that creates a new database called backup.db \n",
    "### with the same structure as original.db and copies all the values greater\n",
    "### than 20.0 from original.db to backup.db. Which is faster: filtering \n",
    "### values in the query, or reading everything into memory and filtering in Python?\n",
    "\n",
    "import sqlite3\n",
    "import numpy as np\n",
    "import random\n",
    "import time\n",
    "\n",
    "time_start = time.time()\n",
    "\n",
    "sqlite_file1 = 'original.db'\n",
    "sqlite_file2 = 'backup.db'\n",
    "table_name = 'Pressure'\n",
    "column_name = 'reading'\n",
    "column_datatype = 'REAL'\n",
    "\n",
    "# Connect to the database file\n",
    "\n",
    "conn1 = sqlite3.connect(sqlite_file1)\n",
    "c1 = conn1.cursor()\n",
    "\n",
    "\n",
    "c1.execute('SELECT * FROM {tn} WHERE {cn}>20'.format(tn=table_name, cn=column_name))\n",
    "all_rows = c1.fetchall()\n",
    "\n",
    "c1.close()\n",
    "conn1.close()\n",
    "\n",
    "conn2 = sqlite3.connect(sqlite_file2)\n",
    "c2 = conn2.cursor()\n",
    "\n",
    "#c.execute('CREATE TABLE {tn}({cn} {dt})'.format(tn = table_name, cn = column_name, dt = column_datatype))\n",
    "\n",
    "for i in range(len(all_rows)):\n",
    "    c2.execute(\"INSERT INTO Pressure values({});\" .format(all_rows[i][0]))\n",
    "\n",
    "conn2.commit()\n",
    "c2.close()\n",
    "\n",
    "time_stop = time.time()\n",
    "runtime = time_stop - time_start\n",
    "print runtime"
   ]
  },
  {
   "cell_type": "code",
   "execution_count": 48,
   "metadata": {
    "collapsed": false
   },
   "outputs": [
    {
     "name": "stdout",
     "output_type": "stream",
     "text": [
      "1.95742297173\n"
     ]
    }
   ],
   "source": [
    "time_start2 = time.time()\n",
    "\n",
    "# Connect to the database file\n",
    "\n",
    "conn1 = sqlite3.connect(sqlite_file1)\n",
    "c1 = conn1.cursor()\n",
    "\n",
    "\n",
    "c1.execute('SELECT * FROM {tn}'.format(tn=table_name, cn=column_name))\n",
    "all_rows = c1.fetchall()\n",
    "\n",
    "c1.close()\n",
    "conn1.close()\n",
    "\n",
    "all_rows_filtered = [reading for reading in all_rows if reading>20];\n",
    "\n",
    "conn2 = sqlite3.connect(sqlite_file2)\n",
    "c2 = conn2.cursor()\n",
    "\n",
    "#c.execute('CREATE TABLE {tn}({cn} {dt})'.format(tn = table_name, cn = column_name, dt = column_datatype))\n",
    "\n",
    "for i in range(len(all_rows_filtered)):\n",
    "    c2.execute(\"INSERT INTO Pressure values({});\" .format(all_rows[i][0]))\n",
    "\n",
    "conn2.commit()\n",
    "c2.close()\n",
    "\n",
    "time_stop2 = time.time()\n",
    "runtime = time_stop2 - time_start2\n",
    "print runtime"
   ]
  },
  {
   "cell_type": "code",
   "execution_count": null,
   "metadata": {
    "collapsed": true
   },
   "outputs": [],
   "source": []
  }
 ],
 "metadata": {
  "kernelspec": {
   "display_name": "Python [Root]",
   "language": "python",
   "name": "Python [Root]"
  },
  "language_info": {
   "codemirror_mode": {
    "name": "ipython",
    "version": 2
   },
   "file_extension": ".py",
   "mimetype": "text/x-python",
   "name": "python",
   "nbconvert_exporter": "python",
   "pygments_lexer": "ipython2",
   "version": "2.7.12"
  }
 },
 "nbformat": 4,
 "nbformat_minor": 0
}
