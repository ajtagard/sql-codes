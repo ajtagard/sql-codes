{
 "cells": [
  {
   "cell_type": "code",
   "execution_count": 14,
   "metadata": {
    "collapsed": false
   },
   "outputs": [],
   "source": [
    "# Creates a database with 2 tables \n",
    "\n",
    "import sqlite3\n",
    "\n",
    "sqlite_file = 'database_name.db'\n",
    "table_name1 = 'table1'\n",
    "table_name2 = 'table2'\n",
    "column_name1 = 'column1'\n",
    "column_datatype = 'REAL'\n",
    "\n",
    "# Connect to the database file\n",
    "conn = sqlite3.connect(sqlite_file)\n",
    "c = conn.cursor()\n",
    "\n",
    "# Create table1 with 1 column\n",
    "c.execute('CREATE TABLE {tn}({cn} {dt})'.format(tn = table_name1, cn = column_name1, dt = column_datatype))\n",
    "\n",
    "# Create table2 with 1 column and set the column as PRIMARY KEY\n",
    "# PRIMARY KEY Column must consists of unique values\n",
    "\n",
    "c.execute('CREATE TABLE {tn}({cn} {dt} PRIMARY KEY)'.format(tn = table_name2, cn = column_name1, dt = column_datatype))\n",
    "\n",
    "# Commit changes and close connection to the database file\n",
    "conn.commit()\n",
    "conn.close()\n"
   ]
  },
  {
   "cell_type": "code",
   "execution_count": null,
   "metadata": {
    "collapsed": true
   },
   "outputs": [],
   "source": []
  }
 ],
 "metadata": {
  "anaconda-cloud": {},
  "kernelspec": {
   "display_name": "Python [Root]",
   "language": "python",
   "name": "Python [Root]"
  },
  "language_info": {
   "codemirror_mode": {
    "name": "ipython",
    "version": 2
   },
   "file_extension": ".py",
   "mimetype": "text/x-python",
   "name": "python",
   "nbconvert_exporter": "python",
   "pygments_lexer": "ipython2",
   "version": "2.7.12"
  }
 },
 "nbformat": 4,
 "nbformat_minor": 0
}
