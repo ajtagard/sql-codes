{
 "cells": [
  {
   "cell_type": "code",
   "execution_count": 2,
   "metadata": {
    "collapsed": false
   },
   "outputs": [
    {
     "name": "stdout",
     "output_type": "stream",
     "text": [
      "('1):', [(2.0, 2.0, u'Hi World'), (3.0, 3.0, u'Hi World')])\n"
     ]
    }
   ],
   "source": [
    "import sqlite3\n",
    "\n",
    "sqlite_file = 'database_name.db'\n",
    "table_name1 = 'table1'\n",
    "column_datatype = 'REAL'\n",
    "\n",
    "# Connect to the database file\n",
    "conn = sqlite3.connect(sqlite_file)\n",
    "c = conn.cursor()\n",
    "\n",
    "\n",
    "# 1) Contents of all columns for row that match a certain value in 1 column\n",
    "c.execute('SELECT * FROM {tn} WHERE {cn}=\"Hi World\"'.\\\n",
    "        format(tn=table_name1, cn='column3'))\n",
    "all_rows = c.fetchall()\n",
    "print('1):', all_rows)\n"
   ]
  },
  {
   "cell_type": "code",
   "execution_count": 3,
   "metadata": {
    "collapsed": false
   },
   "outputs": [
    {
     "name": "stdout",
     "output_type": "stream",
     "text": [
      "[(2.0, 2.0, u'Hi World'), (3.0, 3.0, u'Hi World')]\n"
     ]
    }
   ],
   "source": [
    "print all_rows"
   ]
  },
  {
   "cell_type": "code",
   "execution_count": 4,
   "metadata": {
    "collapsed": false
   },
   "outputs": [
    {
     "data": {
      "text/plain": [
       "list"
      ]
     },
     "execution_count": 4,
     "metadata": {},
     "output_type": "execute_result"
    }
   ],
   "source": [
    "type(all_rows)"
   ]
  },
  {
   "cell_type": "code",
   "execution_count": null,
   "metadata": {
    "collapsed": true
   },
   "outputs": [],
   "source": []
  }
 ],
 "metadata": {
  "kernelspec": {
   "display_name": "Python [Root]",
   "language": "python",
   "name": "Python [Root]"
  },
  "language_info": {
   "codemirror_mode": {
    "name": "ipython",
    "version": 2
   },
   "file_extension": ".py",
   "mimetype": "text/x-python",
   "name": "python",
   "nbconvert_exporter": "python",
   "pygments_lexer": "ipython2",
   "version": "2.7.12"
  }
 },
 "nbformat": 4,
 "nbformat_minor": 0
}
