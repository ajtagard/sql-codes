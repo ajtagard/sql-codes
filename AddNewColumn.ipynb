{
 "cells": [
  {
   "cell_type": "code",
   "execution_count": 7,
   "metadata": {
    "collapsed": false
   },
   "outputs": [],
   "source": [
    "import sqlite3\n",
    "\n",
    "sqlite_file = 'database_name.db' # name of database where new column will be added\n",
    "table_name = 'table1' # name of the table where a new column will be added\n",
    "new_column1 = 'column2'\n",
    "new_column2 = 'column3'\n",
    "new_column1_type = 'REAL'\n",
    "new_column2_type = 'TEXT'\n",
    "new_column2_df = 'Hello' # Default value for new_column2\n",
    "\n",
    "conn = sqlite3.connect(sqlite_file)\n",
    "c = conn.cursor()\n",
    "\n",
    "# Add column with no row default value\n",
    "c.execute(\"ALTER TABLE {tn} ADD COLUMN {cn} {ct}\".format(tn = table_name, cn = new_column1, ct = new_column1_type))\n",
    "\n",
    "# Add column with a default row value\n",
    "c.execute(\"ALTER TABLE {tn} ADD COLUMN {cn} {ct} DEFAULT {df}\".format(tn = table_name, cn = new_column2, ct = new_column2_type, df = new_column2_df))\n",
    "\n",
    "# Commit changes and close database connection\n",
    "conn.commit()\n",
    "conn.close()"
   ]
  },
  {
   "cell_type": "code",
   "execution_count": null,
   "metadata": {
    "collapsed": true
   },
   "outputs": [],
   "source": []
  }
 ],
 "metadata": {
  "kernelspec": {
   "display_name": "Python [Root]",
   "language": "python",
   "name": "Python [Root]"
  },
  "language_info": {
   "codemirror_mode": {
    "name": "ipython",
    "version": 2
   },
   "file_extension": ".py",
   "mimetype": "text/x-python",
   "name": "python",
   "nbconvert_exporter": "python",
   "pygments_lexer": "ipython2",
   "version": "2.7.12"
  }
 },
 "nbformat": 4,
 "nbformat_minor": 0
}
