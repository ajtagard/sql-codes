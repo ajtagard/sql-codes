{
 "cells": [
  {
   "cell_type": "code",
   "execution_count": 46,
   "metadata": {
    "collapsed": false
   },
   "outputs": [
    {
     "name": "stdout",
     "output_type": "stream",
     "text": [
      "INSERT INTO Survey values(619.0, 'olm', 'temp', -21.5);\n",
      "INSERT INTO Survey values(622.0, 'olm', 'temp', -15.5);\n"
     ]
    }
   ],
   "source": [
    "import csv\n",
    "import numpy as np\n",
    "import sqlite3\n",
    "\n",
    "conn = sqlite3.connect('survey4.db')\n",
    "c = conn.cursor()\n",
    "\n",
    "data = list(csv.reader(open('adddata.csv', 'rb'), delimiter = ','))\n",
    "\n",
    "label = data[0][:]\n",
    "measurement = data[1:np.shape(data)[0]][:]\n",
    "measurement = np.array(measurement, dtype='float')\n",
    "\n",
    "\n",
    "#print 'sqlite3 survey2.db'\n",
    "c.execute(\"INSERT INTO Person values('olm', 'Robert', 'Olmstead');\")\n",
    "\n",
    "for m in measurement:\n",
    "    c.execute(\"INSERT INTO Survey values({}, 'olm', 'temp', {});\" .format(m[0], m[1]))\n",
    "    print \"INSERT INTO Survey values({}, 'olm', 'temp', {});\" .format(m[0], m[1])\n",
    "\n",
    "\n",
    "c.close()\n",
    "conn.close()"
   ]
  },
  {
   "cell_type": "code",
   "execution_count": null,
   "metadata": {
    "collapsed": true
   },
   "outputs": [],
   "source": []
  }
 ],
 "metadata": {
  "anaconda-cloud": {},
  "kernelspec": {
   "display_name": "Python [Root]",
   "language": "python",
   "name": "Python [Root]"
  },
  "language_info": {
   "codemirror_mode": {
    "name": "ipython",
    "version": 2
   },
   "file_extension": ".py",
   "mimetype": "text/x-python",
   "name": "python",
   "nbconvert_exporter": "python",
   "pygments_lexer": "ipython2",
   "version": "2.7.12"
  }
 },
 "nbformat": 4,
 "nbformat_minor": 0
}
