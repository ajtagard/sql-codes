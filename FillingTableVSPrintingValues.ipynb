{
 "cells": [
  {
   "cell_type": "code",
   "execution_count": 22,
   "metadata": {
    "collapsed": false
   },
   "outputs": [
    {
     "name": "stdout",
     "output_type": "stream",
     "text": [
      "1.94434595108\n"
     ]
    }
   ],
   "source": [
    "### Write a Python program that creates a new database in a file called original.db \n",
    "### containing a single table called Pressure, with a single field called reading, \n",
    "### and inserts 100,000 random numbers between 10.0 and 25.0. How long does it take \n",
    "### this program to run? How long does it take to run a program that simply writes \n",
    "### those random numbers to a file?\n",
    "\n",
    "\n",
    "import sqlite3\n",
    "import numpy as np\n",
    "import random\n",
    "import time \n",
    "\n",
    "time_start = time.time()\n",
    "\n",
    "sqlite_file = 'original.db'\n",
    "table_name = 'Pressure'\n",
    "column_name = 'reading'\n",
    "column_datatype = 'REAL'\n",
    "\n",
    "# Connect to the database file\n",
    "conn = sqlite3.connect(sqlite_file)\n",
    "c = conn.cursor()\n",
    "\n",
    "\n",
    "# Create table1 with 1 column\n",
    "c.execute('CREATE TABLE {tn}({cn} {dt})'.format(tn = table_name, cn = column_name, dt = column_datatype))\n",
    "\n",
    "#readings = np.random.uniform(low=10, high=25, size=(50,))\n",
    "#for reading in readings:\n",
    "#    c.execute(\"INSERT INTO Pressure values({});\" .format(reading))\n",
    "\n",
    "for i in range(100000):\n",
    "    reading = random.uniform(10,25)\n",
    "    c.execute(\"INSERT INTO Pressure values({});\" .format(reading))\n",
    "\n",
    "# Commit changes and close connection to the database file\n",
    "conn.commit()\n",
    "conn.close()\n",
    "\n",
    "time_stop = time.time()\n",
    "runtime = time_stop - time_start\n",
    "print runtime"
   ]
  },
  {
   "cell_type": "code",
   "execution_count": 26,
   "metadata": {
    "collapsed": false
   },
   "outputs": [
    {
     "name": "stdout",
     "output_type": "stream",
     "text": [
      "0.610570907593\n"
     ]
    }
   ],
   "source": [
    "# Writes 100,000 random numbers into a csv file\n",
    "\n",
    "time_start2 = time.time()\n",
    "\n",
    "data = [];\n",
    "for i in range(100000):\n",
    "    reading = random.uniform(10, 25)\n",
    "    data.append(reading)\n",
    "    \n",
    "np.savetxt('pressure_data.csv', data, delimiter = ',')\n",
    "\n",
    "time_stop2 = time.time()\n",
    "runtime2 = time_stop2 - time_start2\n",
    "print runtime2"
   ]
  }
 ],
 "metadata": {
  "kernelspec": {
   "display_name": "Python [Root]",
   "language": "python",
   "name": "Python [Root]"
  },
  "language_info": {
   "codemirror_mode": {
    "name": "ipython",
    "version": 2
   },
   "file_extension": ".py",
   "mimetype": "text/x-python",
   "name": "python",
   "nbconvert_exporter": "python",
   "pygments_lexer": "ipython2",
   "version": "2.7.12"
  }
 },
 "nbformat": 4,
 "nbformat_minor": 0
}
